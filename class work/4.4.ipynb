{
 "cells": [
  {
   "cell_type": "code",
   "execution_count": 2,
   "metadata": {},
   "outputs": [
    {
     "data": {
      "text/plain": [
       "' attirbutes of google \\ncompany name :\\n    head quarters : other branchs\\n        staff working : \\n            founders :\\n                parent companies :\\n                    owned companies :\\n                        fields of work:\\n                        '"
      ]
     },
     "execution_count": 2,
     "metadata": {},
     "output_type": "execute_result"
    }
   ],
   "source": [
    "# assuming a tech company like google \n",
    "\"\"\" attirbutes of google \n",
    "company name :\n",
    "    head quarters : other branchs\n",
    "        staff working : \n",
    "            founders :\n",
    "                parent companies :\n",
    "                    owned companies :\n",
    "                        fields of work:\n",
    "                        \"\"\"\n",
    "#creating a dictionary for the company data structure \n",
    "#creating tuples for :\n",
    "        # branches , parent company ,\n",
    "\n",
    "        "
   ]
  },
  {
   "cell_type": "code",
   "execution_count": 3,
   "metadata": {},
   "outputs": [],
   "source": [
    "parent_comapany = ('flipkart','ola','paytm')"
   ]
  },
  {
   "cell_type": "code",
   "execution_count": 4,
   "metadata": {},
   "outputs": [],
   "source": [
    "owned_companies = ('Google ','facebook','amazon')"
   ]
  },
  {
   "cell_type": "code",
   "execution_count": 5,
   "metadata": {},
   "outputs": [],
   "source": [
    "branches = ('US','Canada','India','AUstralia','europe')"
   ]
  },
  {
   "cell_type": "code",
   "execution_count": 6,
   "metadata": {},
   "outputs": [],
   "source": [
    "staff = ['ramesh','suresh','raghu','mohith','salam','Satwik','Roy']"
   ]
  },
  {
   "cell_type": "code",
   "execution_count": 7,
   "metadata": {},
   "outputs": [],
   "source": [
    "founders = ('Roy','satwik','mohith','salam')"
   ]
  },
  {
   "cell_type": "code",
   "execution_count": 8,
   "metadata": {},
   "outputs": [],
   "source": [
    "fields = ('mobile technology','space research','solar power','plastic control','IOT')"
   ]
  },
  {
   "cell_type": "code",
   "execution_count": 9,
   "metadata": {},
   "outputs": [],
   "source": [
    "dict_c = {\"company_name\" : 'The ONE Company',\"founders\" : founders ,\"parent_company \" : parent_comapany , \"owned_companies \" : owned_companies , \"branches  \" : branches ,\"staff\" : staff, \"field\" : fields}"
   ]
  },
  {
   "cell_type": "code",
   "execution_count": 10,
   "metadata": {},
   "outputs": [
    {
     "data": {
      "text/plain": [
       "dict_keys(['company_name', 'founders', 'parent_company ', 'owned_companies ', 'branches  ', 'staff', 'field'])"
      ]
     },
     "execution_count": 10,
     "metadata": {},
     "output_type": "execute_result"
    }
   ],
   "source": [
    "dict_c.keys()"
   ]
  },
  {
   "cell_type": "code",
   "execution_count": 11,
   "metadata": {},
   "outputs": [
    {
     "data": {
      "text/plain": [
       "dict_items([('company_name', 'The ONE Company'), ('founders', ('Roy', 'satwik', 'mohith', 'salam')), ('parent_company ', ('flipkart', 'ola', 'paytm')), ('owned_companies ', ('Google ', 'facebook', 'amazon')), ('branches  ', ('US', 'Canada', 'India', 'AUstralia', 'europe')), ('staff', ['ramesh', 'suresh', 'raghu', 'mohith', 'salam', 'Satwik', 'Roy']), ('field', ('mobile technology', 'space research', 'solar power', 'plastic control', 'IOT'))])"
      ]
     },
     "execution_count": 11,
     "metadata": {},
     "output_type": "execute_result"
    }
   ],
   "source": [
    "dict_c.items()"
   ]
  },
  {
   "cell_type": "code",
   "execution_count": 12,
   "metadata": {},
   "outputs": [
    {
     "data": {
      "text/plain": [
       "dict_values(['The ONE Company', ('Roy', 'satwik', 'mohith', 'salam'), ('flipkart', 'ola', 'paytm'), ('Google ', 'facebook', 'amazon'), ('US', 'Canada', 'India', 'AUstralia', 'europe'), ['ramesh', 'suresh', 'raghu', 'mohith', 'salam', 'Satwik', 'Roy'], ('mobile technology', 'space research', 'solar power', 'plastic control', 'IOT')])"
      ]
     },
     "execution_count": 12,
     "metadata": {},
     "output_type": "execute_result"
    }
   ],
   "source": [
    "dict_c.values()"
   ]
  },
  {
   "cell_type": "code",
   "execution_count": 13,
   "metadata": {},
   "outputs": [],
   "source": [
    "dictionary ={\"company\" : 'The Royal One','founder' : founders}"
   ]
  },
  {
   "cell_type": "code",
   "execution_count": null,
   "metadata": {},
   "outputs": [],
   "source": []
  }
 ],
 "metadata": {
  "kernelspec": {
   "display_name": "Python 3",
   "language": "python",
   "name": "python3"
  },
  "language_info": {
   "codemirror_mode": {
    "name": "ipython",
    "version": 3
   },
   "file_extension": ".py",
   "mimetype": "text/x-python",
   "name": "python",
   "nbconvert_exporter": "python",
   "pygments_lexer": "ipython3",
   "version": "3.6.4"
  }
 },
 "nbformat": 4,
 "nbformat_minor": 2
}
