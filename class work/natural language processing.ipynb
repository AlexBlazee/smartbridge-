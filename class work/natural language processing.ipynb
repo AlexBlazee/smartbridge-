{
 "cells": [
  {
   "cell_type": "code",
   "execution_count": 4,
   "metadata": {},
   "outputs": [
    {
     "name": "stdout",
     "output_type": "stream",
     "text": [
      "['Statistics_skills, and programming skills are equally.', 'Statistics skills,domain knowledge']\n"
     ]
    }
   ],
   "source": [
    "import nltk\n",
    "#sentence tokenizing\n",
    "from nltk.tokenize import sent_tokenize\n",
    "text='Statistics_skills, and programming skills are equally. Statistics skills,domain knowledge'\n",
    "sent_tokenize_list=sent_tokenize(text)\n",
    "print(sent_tokenize_list)"
   ]
  },
  {
   "cell_type": "code",
   "execution_count": 5,
   "metadata": {},
   "outputs": [
    {
     "name": "stdout",
     "output_type": "stream",
     "text": [
      "['Statistics_skills', ',', 'and', 'programming', 'skills', 'are', 'equally', '.', 'Statistics', 'skills', ',', 'domain', 'knowledge']\n"
     ]
    }
   ],
   "source": [
    "# word tokenizing\n",
    "from nltk.tokenize import word_tokenize\n",
    "print(word_tokenize(text))"
   ]
  },
  {
   "cell_type": "code",
   "execution_count": 9,
   "metadata": {},
   "outputs": [
    {
     "name": "stdout",
     "output_type": "stream",
     "text": [
      "word tokenize: ['This', 'is', 'a', 'simple', 'english', 'sentence']\n",
      "\n",
      "\n",
      "lang_stopwords: ['i', 'me', 'my', 'myself', 'we', 'our', 'ours', 'ourselves', 'you', \"you're\", \"you've\", \"you'll\", \"you'd\", 'your', 'yours', 'yourself', 'yourselves', 'he', 'him', 'his', 'himself', 'she', \"she's\", 'her', 'hers', 'herself', 'it', \"it's\", 'its', 'itself', 'they', 'them', 'their', 'theirs', 'themselves', 'what', 'which', 'who', 'whom', 'this', 'that', \"that'll\", 'these', 'those', 'am', 'is', 'are', 'was', 'were', 'be', 'been', 'being', 'have', 'has', 'had', 'having', 'do', 'does', 'did', 'doing', 'a', 'an', 'the', 'and', 'but', 'if', 'or', 'because', 'as', 'until', 'while', 'of', 'at', 'by', 'for', 'with', 'about', 'against', 'between', 'into', 'through', 'during', 'before', 'after', 'above', 'below', 'to', 'from', 'up', 'down', 'in', 'out', 'on', 'off', 'over', 'under', 'again', 'further', 'then', 'once', 'here', 'there', 'when', 'where', 'why', 'how', 'all', 'any', 'both', 'each', 'few', 'more', 'most', 'other', 'some', 'such', 'no', 'nor', 'not', 'only', 'own', 'same', 'so', 'than', 'too', 'very', 's', 't', 'can', 'will', 'just', 'don', \"don't\", 'should', \"should've\", 'now', 'd', 'll', 'm', 'o', 're', 've', 'y', 'ain', 'aren', \"aren't\", 'couldn', \"couldn't\", 'didn', \"didn't\", 'doesn', \"doesn't\", 'hadn', \"hadn't\", 'hasn', \"hasn't\", 'haven', \"haven't\", 'isn', \"isn't\", 'ma', 'mightn', \"mightn't\", 'mustn', \"mustn't\", 'needn', \"needn't\", 'shan', \"shan't\", 'shouldn', \"shouldn't\", 'wasn', \"wasn't\", 'weren', \"weren't\", 'won', \"won't\", 'wouldn', \"wouldn't\"]\n",
      "\n",
      "\n",
      "after stopwords_removed: simple english sentence\n"
     ]
    }
   ],
   "source": [
    "#remove stop words\n",
    "from nltk.corpus import stopwords\n",
    "# function to remove stop words\n",
    "def remove_stopwords(text,lang='english'):\n",
    "    words = nltk.word_tokenize(text)\n",
    "    print('word tokenize:',words)\n",
    "    lang_stopwords= stopwords.words(lang)\n",
    "    print('\\n\\nlang_stopwords:',lang_stopwords)\n",
    "    stopwords_removed=[w for w in words if w.lower() not in lang_stopwords]\n",
    "    return \" \".join(stopwords_removed)\n",
    "print('\\n\\nafter stopwords_removed:',remove_stopwords('This is a simple english sentence'))"
   ]
  },
  {
   "cell_type": "code",
   "execution_count": 18,
   "metadata": {},
   "outputs": [
    {
     "name": "stdout",
     "output_type": "stream",
     "text": [
      "string punctuations are: !\"#$%&'()*+,-./:;<=>?@[\\]^_`{|}~\n",
      "after punctuation removed: wow this is a sentence\n"
     ]
    }
   ],
   "source": [
    "#remove punctuation\n",
    "import string\n",
    "#function to remove punctuations\n",
    "def remove_punctuations(text):\n",
    "    words=word_tokenize(text)\n",
    "    print(\"string punctuations are:\",string.punctuation)\n",
    "    punct_removed=[w for w in words if w.lower() not in string.punctuation]\n",
    "    return ' '.join(punct_removed)\n",
    "print(\"after punctuation removed:\",remove_punctuations(\"wow!this is a sentence.\"))\n",
    "    "
   ]
  },
  {
   "cell_type": "code",
   "execution_count": 29,
   "metadata": {},
   "outputs": [
    {
     "name": "stdout",
     "output_type": "stream",
     "text": [
      "actual string:\n",
      " this is a sample english sentence, \n",
      " with          whitespaces and numbers 1234!\n",
      "\n",
      "\n",
      "after white spaces removed: thisisasampleenglishsentence,withwhitespacesandnumbers1234!\n"
     ]
    }
   ],
   "source": [
    "#remove whitespaces\n",
    "def remove_whitespaces(text):\n",
    "    return \"\".join(text.split())\n",
    "text=\"this is a sample english sentence, \\n with          whitespaces and numbers 1234!\"\n",
    "print(\"actual string:\\n\",text)\n",
    "print(\"\\n\\nafter white spaces removed:\",remove_whitespaces(text))"
   ]
  },
  {
   "cell_type": "code",
   "execution_count": 35,
   "metadata": {},
   "outputs": [
    {
     "name": "stdout",
     "output_type": "stream",
     "text": [
      "----- Porter Stemmer -----\n",
      "python\n",
      "python\n",
      "python\n",
      "python\n",
      "pythonli\n",
      "----- Lancaster Stemmer -----\n",
      "python\n",
      "python\n",
      "python\n",
      "python\n",
      "python\n"
     ]
    }
   ],
   "source": [
    "#simple stemming\n",
    "from nltk import PorterStemmer,LancasterStemmer,SnowballStemmer\n",
    "from nltk.tokenize import word_tokenize\n",
    "ps=PorterStemmer()\n",
    "example_words=[\"python\",\"pythoner\",\"pythoning\",\"pythoned\",\"pythonly\"]\n",
    "print(\"-\"*5,\"Porter Stemmer\",\"-\"*5)\n",
    "for w in example_words:\n",
    "    print(ps.stem(w))\n",
    "    \n",
    "ls=LancasterStemmer()\n",
    "example_words=[\"python\",\"pythoner\",\"pythoning\",\"pythoned\",\"pythonly\"]\n",
    "print(\"-\"*5,\"Lancaster Stemmer\",\"-\"*5)\n",
    "for w in example_words:\n",
    "    print(ls.stem(w))\n",
    "        "
   ]
  },
  {
   "cell_type": "code",
   "execution_count": 41,
   "metadata": {},
   "outputs": [
    {
     "name": "stdout",
     "output_type": "stream",
     "text": [
      "cat\n",
      "cactus\n",
      "rock\n",
      "python\n",
      "good\n",
      "best\n",
      "run\n",
      "run\n"
     ]
    }
   ],
   "source": [
    "#simple lemmatizer\n",
    "from nltk.stem import WordNetLemmatizer\n",
    "lemmatizer=WordNetLemmatizer()\n",
    "print(lemmatizer.lemmatize(\"cats\"))\n",
    "print(lemmatizer.lemmatize(\"cacti\"))\n",
    "print(lemmatizer.lemmatize(\"rocks\"))\n",
    "print(lemmatizer.lemmatize(\"python\"))\n",
    "print(lemmatizer.lemmatize(\"better\",pos=\"a\"))\n",
    "print(lemmatizer.lemmatize(\"best\",pos=\"a\"))\n",
    "print(lemmatizer.lemmatize(\"run\"))\n",
    "print(lemmatizer.lemmatize(\"run\",'v'))"
   ]
  },
  {
   "cell_type": "code",
   "execution_count": 43,
   "metadata": {},
   "outputs": [
    {
     "name": "stdout",
     "output_type": "stream",
     "text": [
      "1 gram ['this', 'is', 'a', 'simple', 'sentence', 'in', 'english']\n",
      "2 gram ['this is', 'is a', 'a simple', 'simple sentence', 'sentence in', 'in english']\n",
      "3 gram ['this is a', 'is a simple', 'a simple sentence', 'simple sentence in', 'sentence in english']\n",
      "4 gram ['this is a simple', 'is a simple sentence', 'a simple sentence in', 'simple sentence in english']\n"
     ]
    }
   ],
   "source": [
    "#N-grams\n",
    "from nltk.util import ngrams\n",
    "from collections import Counter\n",
    "#function to extract n-grams from text\n",
    "def get_ngrams(text,n):\n",
    "    n_grams=ngrams(nltk.word_tokenize(text),n)\n",
    "    return [\" \".join(grams) for grams in n_grams]\n",
    "print(\"1 gram\",get_ngrams(\"this is a simple sentence in english\",1))\n",
    "print(\"2 gram\",get_ngrams(\"this is a simple sentence in english\",2))\n",
    "print(\"3 gram\",get_ngrams(\"this is a simple sentence in english\",3))\n",
    "print(\"4 gram\",get_ngrams(\"this is a simple sentence in english\",4))"
   ]
  },
  {
   "cell_type": "code",
   "execution_count": 45,
   "metadata": {},
   "outputs": [
    {
     "name": "stdout",
     "output_type": "stream",
     "text": [
      "[('this', 'DT'), ('is', 'VBZ'), ('a', 'DT'), ('simple', 'JJ'), ('sentence', 'NN'), ('in', 'IN'), ('english', 'NN')]\n"
     ]
    }
   ],
   "source": [
    "#parts of speech\n",
    "from nltk import chunk\n",
    "tagged_sent=nltk.pos_tag(nltk.word_tokenize('this is a simple sentence in english'))\n",
    "print(tagged_sent)\n",
    "tree=chunk.ne_chunk(tagged_sent)\n",
    "tree.draw()"
   ]
  },
  {
   "cell_type": "code",
   "execution_count": 46,
   "metadata": {},
   "outputs": [
    {
     "name": "stdout",
     "output_type": "stream",
     "text": [
      "NNP: noun, proper, singular\n",
      "    Motown Venneboerger Czestochwa Ranzer Conchita Trumplane Christos\n",
      "    Oceanside Escobar Kreisler Sawyer Cougar Yvette Ervin ODI Darryl CTCA\n",
      "    Shannon A.K.C. Meltex Liverpool ...\n"
     ]
    }
   ],
   "source": [
    "#to get help abput tags\n",
    "nltk.help.upenn_tagset('NNP')"
   ]
  },
  {
   "cell_type": "code",
   "execution_count": 51,
   "metadata": {},
   "outputs": [
    {
     "name": "stdout",
     "output_type": "stream",
     "text": [
      "             doc1.txt  doc2.txt  doc3.txt\n",
      "analytics           1         1         0\n",
      "and                 1         1         1\n",
      "are                 1         1         0\n",
      "books               0         0         1\n",
      "domain              0         1         0\n",
      "equally             1         0         0\n",
      "for                 1         1         0\n",
      "important           1         1         0\n",
      "knowledge           0         1         0\n",
      "like                0         0         1\n",
      "programming         1         0         0\n",
      "reading             0         0         1\n",
      "skills              2         1         0\n",
      "statistics          1         1         0\n",
      "travelling          0         0         1\n"
     ]
    }
   ],
   "source": [
    "#Bags of words\n",
    "import os\n",
    "import pandas as pd\n",
    "from sklearn.feature_extraction.text import CountVectorizer\n",
    "#function to create a dictionary with key as filenames and values as text for all files in a givenfolder\n",
    "def CorpusFromDir(dir_path):\n",
    "    result=dict(docs=[open(os.path.join(dir_path,f)).read() for f in os.listdir(dir_path)],ColNames=map(lambda x:x,os.listdir(dir_path)))\n",
    "    return result\n",
    "docs=CorpusFromDir(r\"C:\\Users\\vinay\\intern\\Data\")\n",
    "#initialize \n",
    "vectorizer=CountVectorizer()\n",
    "doc_vec=vectorizer.fit_transform(docs.get('docs'))\n",
    "#create dataframe\n",
    "df=pd.DataFrame(doc_vec.toarray().transpose(),index=vectorizer.get_feature_names())\n",
    "#change column headers to be file names\n",
    "df.columns=docs.get('ColNames')\n",
    "print(df)\n",
    "    "
   ]
  },
  {
   "cell_type": "code",
   "execution_count": null,
   "metadata": {
    "collapsed": true
   },
   "outputs": [],
   "source": []
  }
 ],
 "metadata": {
  "kernelspec": {
   "display_name": "Python 3",
   "language": "python",
   "name": "python3"
  },
  "language_info": {
   "codemirror_mode": {
    "name": "ipython",
    "version": 3
   },
   "file_extension": ".py",
   "mimetype": "text/x-python",
   "name": "python",
   "nbconvert_exporter": "python",
   "pygments_lexer": "ipython3",
   "version": "3.7.1"
  }
 },
 "nbformat": 4,
 "nbformat_minor": 2
}
