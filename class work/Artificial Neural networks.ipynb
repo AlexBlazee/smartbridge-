{
 "cells": [
  {
   "cell_type": "code",
   "execution_count": 4,
   "metadata": {},
   "outputs": [
    {
     "name": "stdout",
     "output_type": "stream",
     "text": [
      "Prediction:[1 1 1 0 0 0 0 1 0 1 1 0 0 1 0 1 0 0 1 1]\n",
      "Actual:[1 1 1 0 0 0 0 1 0 1 1 0 0 1 0 1 0 0 1 1]\n"
     ]
    }
   ],
   "source": [
    "# Block box techniques in machine learning \n",
    "# single layer Perceptron\n",
    "from sklearn.linear_model import perceptron\n",
    "import matplotlib.pyplot as plt\n",
    "from matplotlib.colors import ListedColormap\n",
    "# Lets use sklearn make _ classification function to create some test data\n",
    "from sklearn.datasets import make_classification\n",
    "x,y = make_classification(20,2,2,0,weights =(0.5,0.5),random_state = 2017)\n",
    "#Create a model\n",
    "clf = perceptron.Perceptron(max_iter= 100,verbose= 0 , random_state = 2017 , fit_intercept = True ,eta0=0.002)\n",
    "clf.fit(x,y)\n",
    "print(\"Prediction:\"+str(clf.predict(x)))\n",
    "print(\"Actual:\"+str(y))"
   ]
  },
  {
   "cell_type": "code",
   "execution_count": 9,
   "metadata": {},
   "outputs": [
    {
     "name": "stdout",
     "output_type": "stream",
     "text": [
      "Accuracy100.0%\n",
      "X1 Coefficient : 0.0057530875430471615\n",
      "X2 Coefficient : 0.0010751794142214704\n",
      "Intercept:  [-0.002]\n"
     ]
    }
   ],
   "source": [
    "print(\"Accuracy\"+str(clf.score(x,y)*100) + \"%\")\n",
    "#Output the values \n",
    "print(\"X1 Coefficient :\",str(clf.coef_[0,0]))\n",
    "print(\"X2 Coefficient :\" ,str(clf.coef_[0,1]))\n",
    "print('Intercept: ',str(clf.intercept_))\n"
   ]
  },
  {
   "cell_type": "code",
   "execution_count": 12,
   "metadata": {},
   "outputs": [
    {
     "ename": "ModuleNotFoundError",
     "evalue": "No module named 'mlxtend'",
     "output_type": "error",
     "traceback": [
      "\u001b[1;31m---------------------------------------------------------------------------\u001b[0m",
      "\u001b[1;31mModuleNotFoundError\u001b[0m                       Traceback (most recent call last)",
      "\u001b[1;32m<ipython-input-12-a8ac0b1e2fcf>\u001b[0m in \u001b[0;36m<module>\u001b[1;34m()\u001b[0m\n\u001b[0;32m      1\u001b[0m \u001b[1;31m#plot the decision boundary using the custom function 'plot_decision_regions'\u001b[0m\u001b[1;33m\u001b[0m\u001b[1;33m\u001b[0m\u001b[0m\n\u001b[1;32m----> 2\u001b[1;33m \u001b[1;32mfrom\u001b[0m \u001b[0mmlxtend\u001b[0m\u001b[1;33m.\u001b[0m\u001b[0mplotting\u001b[0m \u001b[1;32mimport\u001b[0m \u001b[0mplot_decision_regions\u001b[0m\u001b[1;33m\u001b[0m\u001b[0m\n\u001b[0m\u001b[0;32m      3\u001b[0m \u001b[1;32mimport\u001b[0m \u001b[0mmatplotlib\u001b[0m\u001b[1;33m.\u001b[0m\u001b[0mpyplot\u001b[0m \u001b[1;32mas\u001b[0m \u001b[0mplt\u001b[0m\u001b[1;33m\u001b[0m\u001b[0m\n\u001b[0;32m      4\u001b[0m \u001b[0mplot_decision_regions\u001b[0m\u001b[1;33m(\u001b[0m\u001b[0mx\u001b[0m\u001b[1;33m,\u001b[0m\u001b[0my\u001b[0m\u001b[1;33m,\u001b[0m\u001b[0mclassifier\u001b[0m\u001b[1;33m=\u001b[0m\u001b[0mclf\u001b[0m\u001b[1;33m)\u001b[0m\u001b[1;33m\u001b[0m\u001b[0m\n\u001b[0;32m      5\u001b[0m \u001b[0mplt\u001b[0m\u001b[1;33m.\u001b[0m\u001b[0mtitle\u001b[0m\u001b[1;33m(\u001b[0m\u001b[1;34m'Perception Model Decision Boundary '\u001b[0m\u001b[1;33m)\u001b[0m\u001b[1;33m\u001b[0m\u001b[0m\n",
      "\u001b[1;31mModuleNotFoundError\u001b[0m: No module named 'mlxtend'"
     ]
    }
   ],
   "source": [
    "#plot the decision boundary using the custom function 'plot_decision_regions'\n",
    "from mlxtend.plotting import plot_decision_regions\n",
    "import matplotlib.pyplot as plt\n",
    "plot_decision_regions(x,y,classifier=clf)\n",
    "plt.title('Perception Model Decision Boundary ')\n",
    "plt.xlabel('X1')\n",
    "plt.ylabel('X2')\n",
    "plt.legend(loc='upper left')\n",
    "plt.show()"
   ]
  },
  {
   "cell_type": "code",
   "execution_count": null,
   "metadata": {},
   "outputs": [],
   "source": []
  },
  {
   "cell_type": "code",
   "execution_count": null,
   "metadata": {},
   "outputs": [],
   "source": []
  },
  {
   "cell_type": "code",
   "execution_count": null,
   "metadata": {},
   "outputs": [],
   "source": [
    "#multi layer perceptron\n"
   ]
  }
 ],
 "metadata": {
  "kernelspec": {
   "display_name": "Python 3",
   "language": "python",
   "name": "python3"
  },
  "language_info": {
   "codemirror_mode": {
    "name": "ipython",
    "version": 3
   },
   "file_extension": ".py",
   "mimetype": "text/x-python",
   "name": "python",
   "nbconvert_exporter": "python",
   "pygments_lexer": "ipython3",
   "version": "3.6.4"
  }
 },
 "nbformat": 4,
 "nbformat_minor": 2
}
